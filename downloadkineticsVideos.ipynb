{
 "cells": [
  {
   "cell_type": "markdown",
   "metadata": {},
   "source": [
    "### kineticsデータセットの動画をmp4でダウンロード"
   ]
  },
  {
   "cell_type": "code",
   "execution_count": null,
   "metadata": {
    "collapsed": true
   },
   "outputs": [],
   "source": [
    "import json\n",
    "from pytube import YouTube\n",
    "import shutil\n",
    "import os\n",
    "import pickle\n",
    "\n",
    "useLabel = [\n",
    "    'baby waking up',\n",
    "    'carrying baby',\n",
    "    'crawling baby'\n",
    "    ]\n",
    "\n",
    "def loadJson(jsonFile):\n",
    "    targetDic = {}\n",
    "    with open(jsonFile, 'r') as f:\n",
    "        jsonDic = json.load(f)\n",
    "        for key in jsonDic.keys():\n",
    "            dic = jsonDic[key]\n",
    "            label = dic['annotations']['label']\n",
    "            if label not in useLabel:\n",
    "                continue\n",
    "            segment = dic['annotations']['segment']\n",
    "            url = dic['url']\n",
    "            if not label in targetDic.keys():\n",
    "                targetDic[label] = {}\n",
    "            targetDic[label][key] = [segment, url]\n",
    "    return targetDic\n",
    "            \n",
    "def downloadVideos(dic, folder, label, maxNum):\n",
    "    saveFolder = folder + os.sep + label\n",
    "    if not os.path.exists(saveFolder):\n",
    "        os.mkdir(saveFolder)\n",
    "    \n",
    "    num = 0\n",
    "    for key in dic.keys():\n",
    "        try:\n",
    "            segment = dic[key][0]\n",
    "            url = dic[key][1]\n",
    "\n",
    "            # youtubeからmp4形式でダウンロード\n",
    "            yt = YouTube(url)\n",
    "            yt.streams.filter(file_extension='mp4').first().download()\n",
    "\n",
    "            # ファイル名の記号がダウンロードファイルからは除かれている\n",
    "            shutil.move(\n",
    "                yt.title.replace(\"'\", \"\").replace(\".\", \"\").replace(\"/\", \"\").replace(\",\", \"\") \\\n",
    "                .replace('\"', '').replace(\"#\", \"\").replace(\"?\", \"\").replace(\":\", \"\").replace(\"|\", \"\") \\\n",
    "                .replace(\";\", \"\").replace(\"\\\"\", \"\") + '.mp4', \n",
    "                'input.mp4')                \n",
    "\n",
    "            # ダウンロードした動画を指定秒数で切り抜き\n",
    "            sec = int(segment[0])\n",
    "            if sec < 60:         \n",
    "                start = '00:00:' + str(int(segment[0])) + '.0'\n",
    "            else:\n",
    "                minutes = sec // 60\n",
    "                sec2 = sec - minutes*60\n",
    "                start = '00:' + str(minutes) + ':' + str(sec2)\n",
    "\n",
    "            os.system('ffmpeg -y -i input.mp4'  + ' -ss ' + start + ' -t 00:00:10.0' + ' out.mp4')\n",
    "\n",
    "            # 作成した動画をラベル名のフォルダに移動\n",
    "            moviePath = saveFolder + os.sep + key + '.mp4'\n",
    "            shutil.move('out.mp4', moviePath) \n",
    "            num += 1\n",
    "                \n",
    "            if num >= maxNum:\n",
    "                return\n",
    "            \n",
    "            if num % 10 == 0:\n",
    "                print(str(num) + 'ファイル完了')\n",
    "        except Exception as e:\n",
    "            print(key + \":\" + str(e))"
   ]
  },
  {
   "cell_type": "markdown",
   "metadata": {},
   "source": [
    "#### trainのダウンロード"
   ]
  },
  {
   "cell_type": "code",
   "execution_count": null,
   "metadata": {
    "collapsed": true
   },
   "outputs": [],
   "source": [
    "targetDic = loadJson('kinetics_train.json')\n",
    "\n",
    "for label in useLabel:\n",
    "    dic = targetDic[label]\n",
    "    with open(label + 'Datas.p', mode='wb') as f:\n",
    "        pickle.dump(dic, f)"
   ]
  },
  {
   "cell_type": "code",
   "execution_count": null,
   "metadata": {
    "collapsed": true
   },
   "outputs": [],
   "source": [
    "for label in useLabel:\n",
    "    with open(label + 'Datas.p', mode='rb') as f:\n",
    "        dic = pickle.load(f)\n",
    "    downloadVideos(dic, 'kineticsMovies', label, 500)"
   ]
  },
  {
   "cell_type": "markdown",
   "metadata": {},
   "source": [
    "#### valのダウンロード"
   ]
  },
  {
   "cell_type": "code",
   "execution_count": null,
   "metadata": {
    "collapsed": true
   },
   "outputs": [],
   "source": [
    "targetValDic = loadJson('kinetics_val.json')\n",
    "for label in useLabel:\n",
    "    dic = targetValDic[label]\n",
    "    with open(label + 'valDatas.p', mode='wb') as f:\n",
    "        pickle.dump(dic, f)"
   ]
  },
  {
   "cell_type": "code",
   "execution_count": null,
   "metadata": {
    "collapsed": true
   },
   "outputs": [],
   "source": [
    "for label in useLabel:\n",
    "    with open(label + 'valDatas.p', mode='rb') as f:\n",
    "        dic = pickle.load(f)\n",
    "    downloadVideos(dic, 'kineticsMovies2', label, 500)"
   ]
  }
 ],
 "metadata": {
  "kernelspec": {
   "display_name": "Python 3",
   "language": "python",
   "name": "python3"
  },
  "language_info": {
   "codemirror_mode": {
    "name": "ipython",
    "version": 3
   },
   "file_extension": ".py",
   "mimetype": "text/x-python",
   "name": "python",
   "nbconvert_exporter": "python",
   "pygments_lexer": "ipython3",
   "version": "3.6.1"
  }
 },
 "nbformat": 4,
 "nbformat_minor": 2
}
