{
 "cells": [
  {
   "cell_type": "code",
   "execution_count": null,
   "metadata": {
    "collapsed": true
   },
   "outputs": [],
   "source": [
    "import cv2\n",
    "import os\n",
    "\n",
    "movieF = \"movie\"\n",
    "photoF = \"photo\"\n",
    "\n",
    "def createPhoto(movieFile):\n",
    "    vid = cv2.VideoCapture(movieF + os.sep + movieFile)\n",
    "    movieName = movieFile.replace(\".MPG\", \"\")\n",
    "\n",
    "    workF = photoF + os.sep + movieName\n",
    "    if not os.path.exists(workF):\n",
    "        os.mkdir(workF)\n",
    "\n",
    "    number = 1\n",
    "    fileNum = 1\n",
    "    while True:\n",
    "            retval, orig_image = vid.read()\n",
    "            if not retval:\n",
    "                return\n",
    "            \n",
    "            if number == 1 or number % 100 == 0:\n",
    "                fileName = workF + os.sep + movieName + \"_\" + '{0:04d}'.format(fileNum) + '.jpg'\n",
    "                cv2.imwrite(fileName, orig_image)\n",
    "                fileNum += 1\n",
    "            number += 1"
   ]
  },
  {
   "cell_type": "code",
   "execution_count": null,
   "metadata": {},
   "outputs": [],
   "source": [
    "for f in os.listdir(movieF):\n",
    "    createPhoto(f)\n",
    "    print(f + \"完了\")"
   ]
  }
 ],
 "metadata": {
  "kernelspec": {
   "display_name": "Python 3",
   "language": "python",
   "name": "python3"
  },
  "language_info": {
   "codemirror_mode": {
    "name": "ipython",
    "version": 3
   },
   "file_extension": ".py",
   "mimetype": "text/x-python",
   "name": "python",
   "nbconvert_exporter": "python",
   "pygments_lexer": "ipython3",
   "version": "3.6.1"
  }
 },
 "nbformat": 4,
 "nbformat_minor": 2
}
