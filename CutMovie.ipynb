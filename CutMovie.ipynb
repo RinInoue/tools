{
 "cells": [
  {
   "cell_type": "code",
   "execution_count": null,
   "metadata": {
    "collapsed": true
   },
   "outputs": [],
   "source": [
    "import cv2\n",
    "import os\n",
    "\n",
    "movieF = \"movie\"\n",
    "outF = \"short\"\n",
    "\n",
    "def convMovie(fileName, startMin, startSec, endMin, endSec):\n",
    "    vid = cv2.VideoCapture(movieF + os.sep + fileName)\n",
    "    movieName = fileName.replace(\".MPG\", \"\")\n",
    "    fps = vid.get(cv2.CAP_PROP_FPS) #1秒間のフレーム数\n",
    "    width = int(vid.get(cv2.CAP_PROP_FRAME_WIDTH))\n",
    "    height = int(vid.get(cv2.CAP_PROP_FRAME_HEIGHT))\n",
    "    \n",
    "    output = outF + os.sep + movieName + \"_\" + \\\n",
    "        str(startMin) + \"-\" + str(startSec) + \"-\" + str(endMin) + \"-\" + str(endSec) + \".mp4\"\n",
    "    print(output)\n",
    "    fourcc = cv2.VideoWriter_fourcc('m','p','4','v')\n",
    "    newVid = cv2.VideoWriter(output, fourcc, fps, (width, height))\n",
    "    \n",
    "    startNum = int((60 * startMin + startSec) * fps)\n",
    "    endNum = int((60 * endMin + endSec) * fps)\n",
    "    print(\"start:\" + str(startNum) + \" end:\" + str(endNum))\n",
    "    \n",
    "    number = 1\n",
    "    while True:\n",
    "            retval, orig_image = vid.read()\n",
    "            if not retval:\n",
    "                break   \n",
    "            \n",
    "            if number > endNum:\n",
    "                break\n",
    "            \n",
    "            if startNum <= number and number <= endNum:\n",
    "                newVid.write(orig_image)\n",
    "            \n",
    "            number += 1\n",
    "    newVid.release()"
   ]
  },
  {
   "cell_type": "code",
   "execution_count": null,
   "metadata": {
    "scrolled": false
   },
   "outputs": [],
   "source": [
    "convMovie(\"M2U00008.MPG\", 3, 3, 3, 50)"
   ]
  }
 ],
 "metadata": {
  "kernelspec": {
   "display_name": "Python 3",
   "language": "python",
   "name": "python3"
  },
  "language_info": {
   "codemirror_mode": {
    "name": "ipython",
    "version": 3
   },
   "file_extension": ".py",
   "mimetype": "text/x-python",
   "name": "python",
   "nbconvert_exporter": "python",
   "pygments_lexer": "ipython3",
   "version": "3.6.1"
  }
 },
 "nbformat": 4,
 "nbformat_minor": 2
}
