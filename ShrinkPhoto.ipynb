{
 "cells": [
  {
   "cell_type": "code",
   "execution_count": null,
   "metadata": {
    "collapsed": true
   },
   "outputs": [],
   "source": [
    "import os\n",
    "from PIL import Image\n",
    "\n",
    "# 縦横どちらかが制限値を超えていた画像を縮小する\n",
    "\n",
    "folder = \"images\"\n",
    "newFolder = 'resized'\n",
    "maxSize = 500\n",
    "\n",
    "if not os.path.exists(newFolder):\n",
    "    os.mkdir(newFolder)\n",
    "\n",
    "for f in os.listdir(folder):\n",
    "    img = Image.open(folder + os.sep + f)\n",
    "    w = img.size[0]\n",
    "    h = img.size[1]\n",
    "    if w <= maxSize and h <= maxSize:\n",
    "        img.save(newFolder + os.sep + f)\n",
    "        continue\n",
    "    if w > h:\n",
    "        x = maxSize\n",
    "        y = int((maxSize / w) * h)\n",
    "    else:\n",
    "        x = int((maxSize / h) * w)\n",
    "        y = maxSize\n",
    "    # リサイズ\n",
    "    img.thumbnail((x, y), Image.ANTIALIAS)\n",
    "    img.save(newFolder + os.sep + f)"
   ]
  },
  {
   "cell_type": "code",
   "execution_count": null,
   "metadata": {
    "collapsed": true
   },
   "outputs": [],
   "source": []
  }
 ],
 "metadata": {
  "kernelspec": {
   "display_name": "Python 3",
   "language": "python",
   "name": "python3"
  },
  "language_info": {
   "codemirror_mode": {
    "name": "ipython",
    "version": 3
   },
   "file_extension": ".py",
   "mimetype": "text/x-python",
   "name": "python",
   "nbconvert_exporter": "python",
   "pygments_lexer": "ipython3",
   "version": "3.6.1"
  }
 },
 "nbformat": 4,
 "nbformat_minor": 2
}
