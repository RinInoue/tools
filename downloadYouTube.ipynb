{
 "cells": [
  {
   "cell_type": "code",
   "execution_count": null,
   "metadata": {},
   "outputs": [],
   "source": [
    "from pytube import YouTube\n",
    "\n",
    "textFile = \"list.txt\"\n",
    "\n",
    "with open(textFile) as f:\n",
    "    data = f.read()\n",
    " \n",
    "lines = data.split('\\n') # 改行で区切る(改行文字そのものは戻り値のデータには含まれない)\n",
    "for line in lines:\n",
    "    url = line\n",
    "    print(url)\n",
    "    # youtubeからmp4形式でダウンロード\n",
    "    yt = YouTube(url)\n",
    "    yt.streams.filter(file_extension='mp4').first().download()"
   ]
  }
 ],
 "metadata": {
  "kernelspec": {
   "display_name": "Python 3",
   "language": "python",
   "name": "python3"
  },
  "language_info": {
   "codemirror_mode": {
    "name": "ipython",
    "version": 3
   },
   "file_extension": ".py",
   "mimetype": "text/x-python",
   "name": "python",
   "nbconvert_exporter": "python",
   "pygments_lexer": "ipython3",
   "version": "3.6.1"
  }
 },
 "nbformat": 4,
 "nbformat_minor": 2
}
